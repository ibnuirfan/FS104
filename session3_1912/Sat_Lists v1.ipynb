{
 "cells": [
  {
   "cell_type": "markdown",
   "metadata": {},
   "source": [
    "# Exercise"
   ]
  },
  {
   "cell_type": "markdown",
   "metadata": {},
   "source": [
    "1. Which of the following would be the resulting list after inserting the value 50 at index 2?<br>\n",
    "            0: 35\n",
    "            1: 15\n",
    "            2: 45\n",
    "            3: 28\n",
    "\n",
    "        (a)  0: 35       (b)   0: 35        (c)  0: 50\n",
    "             1: 50             1: 15             1: 35\n",
    "             2: 15             2: 50             2: 15\n",
    "             3: 45             3: 45             3: 45\n",
    "             4: 28             4: 28             4: 28\n",
    "                                                       \n"
   ]
  },
  {
   "cell_type": "markdown",
   "metadata": {},
   "source": [
    "2. Lists and tuples must each contain at least one element. (TRUE/FALSE)\n"
   ]
  },
  {
   "cell_type": "markdown",
   "metadata": {},
   "source": [
    "3. For lst = [4, 2, 9, 1], what is the result of the following operation,\n",
    "lst.insert(2, 3)?<br>\n",
    "(a) [4, 2, 3, 9, 1] <br>        (b) [4, 3 ,2, 9, 1]      <br>     (c) [4, 2, 9, 2, 1]\n"
   ]
  },
  {
   "cell_type": "markdown",
   "metadata": {},
   "source": [
    "## Question 2"
   ]
  },
  {
   "source": [
    "#What Will Be The Output Of The Following Code Snippet? <br>\n",
    "a = [1,2,3,4,5] \n",
    "a[0:4:2]\n"
   ],
   "cell_type": "code",
   "metadata": {},
   "execution_count": null,
   "outputs": []
  },
  {
   "cell_type": "markdown",
   "metadata": {},
   "source": [
    "A. [1,3]\n",
    "\n",
    "B. [1,3,5]\n",
    "\n",
    "C. [2,4]\n"
   ]
  },
  {
   "cell_type": "code",
   "execution_count": 2,
   "metadata": {},
   "outputs": [
    {
     "data": {
      "text/plain": [
       "[1, 3]"
      ]
     },
     "execution_count": 2,
     "metadata": {},
     "output_type": "execute_result"
    }
   ],
   "source": [
    "# B is wrong because 5 is not inclusive in the range 0:4, it only goes from 1,2,3,4\n",
    "# C is wrong because it starts from index 0"
   ]
  }
 ],
 "metadata": {
  "kernelspec": {
   "display_name": "Python 3",
   "language": "python",
   "name": "python3"
  },
  "language_info": {
   "codemirror_mode": {
    "name": "ipython",
    "version": 3
   },
   "file_extension": ".py",
   "mimetype": "text/x-python",
   "name": "python",
   "nbconvert_exporter": "python",
   "pygments_lexer": "ipython3",
   "version": "3.7.3"
  }
 },
 "nbformat": 4,
 "nbformat_minor": 2
}