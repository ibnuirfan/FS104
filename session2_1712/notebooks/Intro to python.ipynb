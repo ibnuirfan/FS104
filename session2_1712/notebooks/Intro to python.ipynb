{
 "metadata": {
  "language_info": {
   "codemirror_mode": {
    "name": "ipython",
    "version": 3
   },
   "file_extension": ".py",
   "mimetype": "text/x-python",
   "name": "python",
   "nbconvert_exporter": "python",
   "pygments_lexer": "ipython3",
   "version": "3.9.1-final"
  },
  "orig_nbformat": 2,
  "kernelspec": {
   "name": "python3",
   "display_name": "Python 3.9.1 64-bit",
   "metadata": {
    "interpreter": {
     "hash": "7d63ce975782c92b08f3f772153dbd399f28f779c2a00aec1f20bc6f6f6070ea"
    }
   }
  }
 },
 "nbformat": 4,
 "nbformat_minor": 2,
 "cells": [
  {
   "cell_type": "code",
   "execution_count": 1,
   "metadata": {},
   "outputs": [],
   "source": [
    "#Introduction to Python"
   ]
  },
  {
   "cell_type": "code",
   "execution_count": 3,
   "metadata": {},
   "outputs": [],
   "source": [
    "5+2;"
   ]
  },
  {
   "cell_type": "code",
   "execution_count": 2,
   "metadata": {},
   "outputs": [
    {
     "output_type": "execute_result",
     "data": {
      "text/plain": [
       "True"
      ]
     },
     "metadata": {},
     "execution_count": 2
    }
   ],
   "source": [
    "5>2"
   ]
  },
  {
   "cell_type": "code",
   "execution_count": 5,
   "metadata": {},
   "outputs": [
    {
     "output_type": "stream",
     "name": "stdout",
     "text": [
      "hello world!!\n"
     ]
    }
   ],
   "source": [
    "#Trying to execute the print command\n",
    "print(\"hello world!!\")"
   ]
  },
  {
   "cell_type": "code",
   "execution_count": 8,
   "metadata": {},
   "outputs": [
    {
     "output_type": "stream",
     "name": "stdout",
     "text": [
      "hello world\n"
     ]
    }
   ],
   "source": [
    "if(5>2):\n",
    "    print(\"hello world\");"
   ]
  },
  {
   "cell_type": "code",
   "execution_count": 20,
   "metadata": {},
   "outputs": [
    {
     "output_type": "stream",
     "name": "stdout",
     "text": [
      "hello world from the other side\n"
     ]
    }
   ],
   "source": [
    "if(5<2):\n",
    "    print(\"hello world\")\n",
    "if(2<5):\n",
    "    print(\"hello world from the other side\")"
   ]
  },
  {
   "cell_type": "code",
   "execution_count": 21,
   "metadata": {},
   "outputs": [],
   "source": [
    "if(5<2):\n",
    "    print(\"hello world\")\n",
    "    if(2<5):\n",
    "        print(\"hello world from the other side\")"
   ]
  },
  {
   "cell_type": "code",
   "execution_count": 24,
   "metadata": {},
   "outputs": [
    {
     "output_type": "stream",
     "name": "stdout",
     "text": [
      "<class 'str'>\n<class 'int'>\n<class 'float'>\n"
     ]
    }
   ],
   "source": [
    "name = \"Vaibhav\"\n",
    "age = 35\n",
    "country = \"India\"\n",
    "weatherincelsius = 14.0\n",
    "\n",
    "print(type(name))\n",
    "print(type(age))\n",
    "print(type(weatherincelsius))"
   ]
  },
  {
   "cell_type": "code",
   "execution_count": 25,
   "metadata": {},
   "outputs": [
    {
     "output_type": "stream",
     "name": "stdout",
     "text": [
      "<class 'str'>\n"
     ]
    }
   ],
   "source": [
    "age = str(35)\n",
    "\n",
    "print(type(age))"
   ]
  },
  {
   "cell_type": "code",
   "execution_count": 26,
   "metadata": {},
   "outputs": [],
   "source": [
    "Age = 35"
   ]
  },
  {
   "cell_type": "code",
   "execution_count": 27,
   "metadata": {},
   "outputs": [
    {
     "output_type": "stream",
     "name": "stdout",
     "text": [
      "35\n35\n"
     ]
    }
   ],
   "source": [
    "print(age)\n",
    "print(Age)"
   ]
  },
  {
   "cell_type": "code",
   "execution_count": 28,
   "metadata": {},
   "outputs": [
    {
     "output_type": "stream",
     "name": "stdout",
     "text": [
      "<class 'str'>\n<class 'int'>\n"
     ]
    }
   ],
   "source": [
    "print(type(age))\n",
    "print(type(Age))\n"
   ]
  },
  {
   "cell_type": "code",
   "execution_count": 29,
   "metadata": {},
   "outputs": [],
   "source": [
    "name, age, country = \"Vashishtha\", 34, 'Singapore'"
   ]
  },
  {
   "cell_type": "code",
   "execution_count": 32,
   "metadata": {},
   "outputs": [],
   "source": [
    "name = age = country = \"Vashishtha\""
   ]
  },
  {
   "cell_type": "code",
   "execution_count": 33,
   "metadata": {},
   "outputs": [],
   "source": [
    "teacher = [\"Vashishtha\", 34, 'Singapore']\n",
    "name, age, country = teacher"
   ]
  },
  {
   "cell_type": "code",
   "execution_count": null,
   "metadata": {},
   "outputs": [],
   "source": [
    "#Output the combination of variables"
   ]
  },
  {
   "cell_type": "code",
   "execution_count": 37,
   "metadata": {},
   "outputs": [
    {
     "output_type": "stream",
     "name": "stdout",
     "text": [
      "3\n['abhishek', 'vincent', 'gabriel']\nvincent\n['abhishek', 'kannan', 'gabriel']\n['abhishek', 'desmond', 'melvin', 'gabriel']\n"
     ]
    }
   ],
   "source": [
    "#Lists\n",
    "thislist = [\"abhishek\", \"vincent\", \"gabriel\"]\n",
    "print(len(thislist))\n",
    "\n",
    "list1 = [\"abhishek\", \"vincent\", \"gabriel\"]\n",
    "list2 = [1, 2, 2, 3, 4]\n",
    "list3 = [True, False, False]\n",
    "\n",
    "thislist = list((\"abhishek\", \"vincent\", \"gabriel\")) \n",
    "print(thislist)\n",
    "\n",
    "print(thislist[1])\n",
    "\n",
    "thislist[1] = \"kannan\"\n",
    "print(thislist)\n",
    "\n",
    "thislist[1:2] = [\"desmond\", \"melvin\"]\n",
    "print(thislist)"
   ]
  },
  {
   "cell_type": "code",
   "execution_count": 34,
   "metadata": {},
   "outputs": [
    {
     "output_type": "stream",
     "name": "stdout",
     "text": [
      "Vaibhav Vashishtha\n"
     ]
    }
   ],
   "source": [
    "#Functions\n",
    "\n",
    "def my_function(fname, lname):\n",
    "  print(fname + \" \" + lname)\n",
    "\n",
    "my_function(\"Vaibhav\", \"Vashishtha\")"
   ]
  },
  {
   "cell_type": "code",
   "execution_count": 38,
   "metadata": {},
   "outputs": [
    {
     "output_type": "stream",
     "name": "stdout",
     "text": [
      "1\n2\n3\n4\n5\nb\na\nn\na\nn\na\n"
     ]
    }
   ],
   "source": [
    "#Loops\n",
    "\n",
    "i = 1\n",
    "while i < 6:\n",
    "  print(i)\n",
    "  i += 1\n",
    "\n",
    "for x in \"banana\":\n",
    "  print(x)\n",
    "\n",
    "students = [\"desmond\", \"melvin\"]\n",
    "for x in students:\n",
    "  if x == \"desmond\":\n",
    "    break\n",
    "  print(x)"
   ]
  },
  {
   "cell_type": "code",
   "execution_count": null,
   "metadata": {},
   "outputs": [],
   "source": []
  }
 ]
}